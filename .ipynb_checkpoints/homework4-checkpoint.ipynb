{
 "cells": [
  {
   "cell_type": "markdown",
   "id": "b7b523ea",
   "metadata": {},
   "source": [
    "# Homework 4 - Hard coding"
   ]
  },
  {
   "cell_type": "code",
   "execution_count": null,
   "id": "2ba684e7",
   "metadata": {},
   "outputs": [],
   "source": []
  },
  {
   "cell_type": "markdown",
   "id": "a6ed9cff",
   "metadata": {},
   "source": [
    "## 1. Implementing your own Shazam"
   ]
  },
  {
   "cell_type": "code",
   "execution_count": null,
   "id": "3e126dc5",
   "metadata": {},
   "outputs": [],
   "source": []
  },
  {
   "cell_type": "markdown",
   "id": "3ed5619b",
   "metadata": {},
   "source": [
    "### 1.1 Getting your data!"
   ]
  },
  {
   "cell_type": "code",
   "execution_count": null,
   "id": "87dbc35b",
   "metadata": {},
   "outputs": [],
   "source": []
  },
  {
   "cell_type": "markdown",
   "id": "67cd4b7b",
   "metadata": {},
   "source": [
    "### 1.2 Fingerprint hashing"
   ]
  },
  {
   "cell_type": "code",
   "execution_count": null,
   "id": "225851e8",
   "metadata": {},
   "outputs": [],
   "source": []
  },
  {
   "cell_type": "markdown",
   "id": "1888bb06",
   "metadata": {},
   "source": [
    "## 2. Grouping songs together!"
   ]
  },
  {
   "cell_type": "code",
   "execution_count": null,
   "id": "eb8def99",
   "metadata": {},
   "outputs": [],
   "source": []
  },
  {
   "cell_type": "markdown",
   "id": "265782b9",
   "metadata": {},
   "source": [
    "### 2.1 Getting your data!"
   ]
  },
  {
   "cell_type": "code",
   "execution_count": null,
   "id": "f995c925",
   "metadata": {},
   "outputs": [],
   "source": []
  },
  {
   "cell_type": "markdown",
   "id": "ba0b0fb1",
   "metadata": {},
   "source": [
    "### 2.2 Choose your features (variables)!"
   ]
  },
  {
   "cell_type": "code",
   "execution_count": null,
   "id": "d0aded67",
   "metadata": {},
   "outputs": [],
   "source": []
  },
  {
   "cell_type": "markdown",
   "id": "0793e72c",
   "metadata": {},
   "source": [
    "### 2.3 Clustering!"
   ]
  },
  {
   "cell_type": "code",
   "execution_count": null,
   "id": "ddd58d13",
   "metadata": {},
   "outputs": [],
   "source": []
  },
  {
   "cell_type": "markdown",
   "id": "e527d0cc",
   "metadata": {},
   "source": [
    "### 2.4 Analysing your results!"
   ]
  },
  {
   "cell_type": "code",
   "execution_count": null,
   "id": "b31e36de",
   "metadata": {},
   "outputs": [],
   "source": []
  },
  {
   "cell_type": "markdown",
   "id": "029445bc",
   "metadata": {},
   "source": [
    "## Bonus"
   ]
  },
  {
   "cell_type": "code",
   "execution_count": null,
   "id": "d6e33c09",
   "metadata": {},
   "outputs": [],
   "source": []
  },
  {
   "cell_type": "markdown",
   "id": "369b2cf1",
   "metadata": {},
   "source": [
    "## 3. Algorithmic questions"
   ]
  },
  {
   "cell_type": "code",
   "execution_count": 27,
   "id": "9497ab77",
   "metadata": {},
   "outputs": [],
   "source": [
    "def getSumPairs(arr, n, s):\n",
    "    s_set, l = set(), set()\n",
    "    for i in range(n):\n",
    "        s_set.add(arr[i])\n",
    "        if s - arr[i] in s_set:\n",
    "            l.add((arr[i], s - arr[i]))\n",
    "    return l    "
   ]
  },
  {
   "cell_type": "code",
   "execution_count": 31,
   "id": "d5ed1d56",
   "metadata": {},
   "outputs": [
    {
     "data": {
      "text/plain": [
       "{(-3, 7), (2, 2), (3, 1), (6, -2)}"
      ]
     },
     "execution_count": 31,
     "metadata": {},
     "output_type": "execute_result"
    }
   ],
   "source": [
    "A = [7, -2, 8, 2, 6, 4, -7, 2, 1, 3, -3]\n",
    "getSumPairs(A, len(A), 4)"
   ]
  },
  {
   "cell_type": "markdown",
   "id": "4de9ebf9",
   "metadata": {},
   "source": [
    "Since there is one for loop which goes over all the elements of the array only once, the time complexity is of $O(n)$"
   ]
  },
  {
   "cell_type": "code",
   "execution_count": null,
   "id": "dbe895f0",
   "metadata": {},
   "outputs": [],
   "source": []
  }
 ],
 "metadata": {
  "kernelspec": {
   "display_name": "Python 3",
   "language": "python",
   "name": "python3"
  },
  "language_info": {
   "codemirror_mode": {
    "name": "ipython",
    "version": 3
   },
   "file_extension": ".py",
   "mimetype": "text/x-python",
   "name": "python",
   "nbconvert_exporter": "python",
   "pygments_lexer": "ipython3",
   "version": "3.8.8"
  }
 },
 "nbformat": 4,
 "nbformat_minor": 5
}
