{
 "cells": [
  {
   "cell_type": "markdown",
   "id": "b7b523ea",
   "metadata": {},
   "source": [
    "# Homework 4 - Hard coding"
   ]
  },
  {
   "cell_type": "code",
   "execution_count": 5,
   "id": "e1f852dc",
   "metadata": {},
   "outputs": [
    {
     "name": "stdout",
     "output_type": "stream",
     "text": [
      "Collecting ipynb\n",
      "  Downloading ipynb-0.5.1-py3-none-any.whl (6.9 kB)\n",
      "Installing collected packages: ipynb\n",
      "Successfully installed ipynb-0.5.1\n"
     ]
    }
   ],
   "source": [
    "!pip install ipynb"
   ]
  },
  {
   "cell_type": "code",
   "execution_count": 8,
   "id": "f7581f0d",
   "metadata": {},
   "outputs": [
    {
     "name": "stdout",
     "output_type": "stream",
     "text": [
      "Collecting import-ipynb\n",
      "  Downloading import-ipynb-0.1.3.tar.gz (4.0 kB)\n",
      "Building wheels for collected packages: import-ipynb\n",
      "  Building wheel for import-ipynb (setup.py): started\n",
      "  Building wheel for import-ipynb (setup.py): finished with status 'done'\n",
      "  Created wheel for import-ipynb: filename=import_ipynb-0.1.3-py3-none-any.whl size=2975 sha256=400d82a1d217f9336fabe3748eae08741d9fb2cb8ee39380563442d94e900679\n",
      "  Stored in directory: c:\\users\\parsa33033\\appdata\\local\\pip\\cache\\wheels\\06\\7e\\ad\\1cb03e935234186825cefc7e2c8f3451b4f654b5bc72232a7b\n",
      "Successfully built import-ipynb\n",
      "Installing collected packages: import-ipynb\n",
      "Successfully installed import-ipynb-0.1.3\n"
     ]
    }
   ],
   "source": [
    "!pip install import-ipynb"
   ]
  },
  {
   "cell_type": "code",
   "execution_count": null,
   "id": "39b386b6",
   "metadata": {},
   "outputs": [],
   "source": [
    "!pip install librosa"
   ]
  },
  {
   "cell_type": "code",
   "execution_count": 2,
   "id": "2ba684e7",
   "metadata": {},
   "outputs": [],
   "source": [
    "import numpy as np\n",
    "import pandas as pd\n",
    "import librosa\n",
    "import import_ipynb\n",
    "from AudioSignals import *\n",
    "import sys,os\n",
    "import csv\n",
    "import re\n",
    "from tqdm import tqdm"
   ]
  },
  {
   "cell_type": "markdown",
   "id": "a6ed9cff",
   "metadata": {},
   "source": [
    "## 1. Implementing your own Shazam"
   ]
  },
  {
   "cell_type": "code",
   "execution_count": 3,
   "id": "a5acf144",
   "metadata": {},
   "outputs": [
    {
     "name": "stderr",
     "output_type": "stream",
     "text": [
      " 10%|███████▉                                                                       | 141/1413 [06:23<57:42,  2.72s/it]\n"
     ]
    }
   ],
   "source": [
    "data_dir = \"data\"\n",
    "N_TRACKS = 1413\n",
    "\n",
    "if not os.path.exists(data_dir):\n",
    "    os.mkdir(data_dir)\n",
    "\n",
    "def convert_audio(audio_name, audio_path, converted_extention='wav', destination_path=\"data\"):\n",
    "    destination_audio = os.path.join(destination_path, audio_name[:-3] + converted_extention) \n",
    "    if not Path(destination_audio).exists():\n",
    "        subprocess.check_output(f\"ffmpeg -i {audio_path} {destination_audio}\", shell=True)\n",
    "        return destination_audio\n",
    "    return None\n",
    "\n",
    "with open(\"dataset.csv\", \"w\", newline='') as dataset:\n",
    "    writer = csv.writer(dataset)\n",
    "    writer.writerow([\"title\", \"band\", \"album\", \"track\"])\n",
    "    for path, subdirs, files in tqdm(os.walk(\"mp3s-32k\")):\n",
    "        for name in files:\n",
    "            f = path.split('\\\\')           \n",
    "            if len(f) == 3:\n",
    "                mp3_path = os.path.join(path, name)\n",
    "                wav_path = convert_audio(name, mp3_path)\n",
    "                if wav_path:\n",
    "                    writer.writerow([name, f[1], f[2], wav_path])\n",
    "ds = pd.read_csv(\"dataset.csv\")"
   ]
  },
  {
   "cell_type": "markdown",
   "id": "3ed5619b",
   "metadata": {},
   "source": [
    "### 1.1 Getting your data!"
   ]
  },
  {
   "cell_type": "code",
   "execution_count": null,
   "id": "87dbc35b",
   "metadata": {},
   "outputs": [],
   "source": []
  },
  {
   "cell_type": "markdown",
   "id": "67cd4b7b",
   "metadata": {},
   "source": [
    "### 1.2 Fingerprint hashing"
   ]
  },
  {
   "cell_type": "code",
   "execution_count": null,
   "id": "225851e8",
   "metadata": {},
   "outputs": [],
   "source": []
  },
  {
   "cell_type": "markdown",
   "id": "1888bb06",
   "metadata": {},
   "source": [
    "## 2. Grouping songs together!"
   ]
  },
  {
   "cell_type": "code",
   "execution_count": null,
   "id": "eb8def99",
   "metadata": {},
   "outputs": [],
   "source": []
  },
  {
   "cell_type": "markdown",
   "id": "265782b9",
   "metadata": {},
   "source": [
    "### 2.1 Getting your data!"
   ]
  },
  {
   "cell_type": "code",
   "execution_count": null,
   "id": "f995c925",
   "metadata": {},
   "outputs": [],
   "source": []
  },
  {
   "cell_type": "markdown",
   "id": "ba0b0fb1",
   "metadata": {},
   "source": [
    "### 2.2 Choose your features (variables)!"
   ]
  },
  {
   "cell_type": "code",
   "execution_count": null,
   "id": "d0aded67",
   "metadata": {},
   "outputs": [],
   "source": []
  },
  {
   "cell_type": "markdown",
   "id": "0793e72c",
   "metadata": {},
   "source": [
    "### 2.3 Clustering!"
   ]
  },
  {
   "cell_type": "code",
   "execution_count": null,
   "id": "ddd58d13",
   "metadata": {},
   "outputs": [],
   "source": []
  },
  {
   "cell_type": "markdown",
   "id": "e527d0cc",
   "metadata": {},
   "source": [
    "### 2.4 Analysing your results!"
   ]
  },
  {
   "cell_type": "code",
   "execution_count": null,
   "id": "b31e36de",
   "metadata": {},
   "outputs": [],
   "source": []
  },
  {
   "cell_type": "markdown",
   "id": "029445bc",
   "metadata": {},
   "source": [
    "## Bonus"
   ]
  },
  {
   "cell_type": "code",
   "execution_count": null,
   "id": "d6e33c09",
   "metadata": {},
   "outputs": [],
   "source": []
  },
  {
   "cell_type": "markdown",
   "id": "369b2cf1",
   "metadata": {},
   "source": [
    "## 3. Algorithmic questions"
   ]
  },
  {
   "cell_type": "code",
   "execution_count": 27,
   "id": "9497ab77",
   "metadata": {},
   "outputs": [],
   "source": [
    "def getSumPairs(arr, n, s):\n",
    "    s_set, l = set(), set()\n",
    "    for i in range(n):\n",
    "        s_set.add(arr[i])\n",
    "        if s - arr[i] in s_set:\n",
    "            l.add((arr[i], s - arr[i]))\n",
    "    return l    "
   ]
  },
  {
   "cell_type": "code",
   "execution_count": 31,
   "id": "d5ed1d56",
   "metadata": {},
   "outputs": [
    {
     "data": {
      "text/plain": [
       "{(-3, 7), (2, 2), (3, 1), (6, -2)}"
      ]
     },
     "execution_count": 31,
     "metadata": {},
     "output_type": "execute_result"
    }
   ],
   "source": [
    "A = [7, -2, 8, 2, 6, 4, -7, 2, 1, 3, -3]\n",
    "getSumPairs(A, len(A), 4)"
   ]
  },
  {
   "cell_type": "markdown",
   "id": "f7cd214c",
   "metadata": {},
   "source": [
    "Since there is one for loop which goes over all the elements of the array only once, the time complexity is of $O(n)$"
   ]
  },
  {
   "cell_type": "code",
   "execution_count": null,
   "id": "4e92a58b",
   "metadata": {},
   "outputs": [],
   "source": []
  }
 ],
 "metadata": {
  "kernelspec": {
   "display_name": "Python 3",
   "language": "python",
   "name": "python3"
  },
  "language_info": {
   "codemirror_mode": {
    "name": "ipython",
    "version": 3
   },
   "file_extension": ".py",
   "mimetype": "text/x-python",
   "name": "python",
   "nbconvert_exporter": "python",
   "pygments_lexer": "ipython3",
   "version": "3.8.8"
  }
 },
 "nbformat": 4,
 "nbformat_minor": 5
}
